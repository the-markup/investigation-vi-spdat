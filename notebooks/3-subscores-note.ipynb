{
 "cells": [
  {
   "cell_type": "code",
   "execution_count": 1,
   "id": "b2ac4557",
   "metadata": {},
   "outputs": [],
   "source": [
    "from pathlib import Path\n",
    "\n",
    "import matplotlib.pyplot as plt\n",
    "import researchpy as rp\n",
    "import pandas as pd\n",
    "import numpy as np"
   ]
  },
  {
   "cell_type": "code",
   "execution_count": 2,
   "id": "a7966882",
   "metadata": {},
   "outputs": [],
   "source": [
    "data_folder = Path('../data/')\n",
    "\n",
    "fn = Path(data_folder, 'assessments.csv')\n",
    "df = pd.read_csv(fn)\n",
    "\n",
    "individuals = df[df['AssessmentName'].str.contains('Individuals')].copy()\n",
    "\n",
    "# Drop any completely empty columns\n",
    "# e.g. columns that are youth survey-specific and not used for adults\n",
    "individuals.dropna(axis=1, how='all', inplace=True)\n",
    "\n",
    "#Convert subscores to an int for math purposes.\n",
    "for col in [c for c in individuals.columns if c.startswith('CALC_')]:\n",
    "    individuals[col] = individuals[col].apply(int)\n",
    "\n",
    "youth = df[df['AssessmentName'].str.contains('Youth')].copy()\n",
    "\n",
    "# Drop any completely empty columns\n",
    "# e.g. columns that are adult survey-specific and not used for youth\n",
    "youth.dropna(axis=1, how='all', inplace=True)\n",
    "\n",
    "# Convert subscores to an int for math purposes.\n",
    "for col in [c for c in youth.columns if c.startswith('CALC_')]:\n",
    "    youth[col] = youth[col].apply(int)"
   ]
  },
  {
   "cell_type": "markdown",
   "id": "8ef68597",
   "metadata": {},
   "source": [
    "## Analysis: Chi-square tests\n",
    "\n",
    "**NOTE:** For each assessment type and subset of the data, do two chi-square tests: one that compares Black and White people, and another that compares Latino and White people. Then, compare the results of similar demographic/assessment combinations and see if they are both significant or not significant."
   ]
  },
  {
   "cell_type": "code",
   "execution_count": 3,
   "id": "b911e679",
   "metadata": {},
   "outputs": [
    {
     "data": {
      "text/plain": [
       "True    68\n",
       "dtype: int64"
      ]
     },
     "execution_count": 3,
     "metadata": {},
     "output_type": "execute_result"
    }
   ],
   "source": [
    "chidata = []\n",
    "subscore_charts = dict()\n",
    "\n",
    "for calc_type in ['ALL','WITH EXCLUSIONS']:\n",
    "    for group in ['Black', 'Latino']:\n",
    "        for assessment in df['AssessmentName'].unique(): \n",
    "            af = df[df['AssessmentName'].eq(assessment)].copy()\n",
    "            if calc_type == 'WITH EXCLUSIONS':\n",
    "                af = af[af['TOTAL_SCORE'].eq(af['CALC_TOTAL_SCORE'])].copy()\n",
    "            af = af.dropna(how='all', axis=1).copy()\n",
    "            \n",
    "            subscores = [c for c in af.columns if c.startswith('CALC_') and not c.endswith('_SCORE')]\n",
    "            subscores.append('GENERAL_SUB_SCORE')\n",
    "            \n",
    "            for s in subscores:\n",
    "                af['ChiRE'] = df['Race/Ethnicity'].apply(lambda r: r if r in ['White', group] else np.nan)\n",
    "                af['ChiScore'] = df[s]\n",
    "                        \n",
    "                crosstab, test_results, expected = rp.crosstab(af['ChiRE'], af['ChiScore'],\n",
    "                                                           test= \"chi-square\",\n",
    "                                                           expected_freqs= True,\n",
    "                                                           prop= \"cell\")        \n",
    "                row = [s, assessment, calc_type, group]\n",
    "                row.extend(test_results['results'])\n",
    "                chidata.append(row)\n",
    "                \n",
    "chidf = pd.DataFrame(chidata, columns=['score','assessment','subset', 'group','pearson chi-square','p-value','cramers phi'])            \n",
    "chidf['sig'] = chidf['p-value'].lt(0.05)\n",
    "\n",
    "# Pivot to compare like All/With Exclusions subsets\n",
    "pivoted = chidf[['score','assessment','group','subset','sig']].pivot_table(\n",
    "    values='sig', index=['score','assessment', 'group'], columns='subset'\n",
    ").copy()\n",
    "\n",
    "pivoted['ALL'].eq(pivoted['WITH EXCLUSIONS']).value_counts()"
   ]
  },
  {
   "cell_type": "markdown",
   "id": "5509d5c8",
   "metadata": {},
   "source": [
    "## Relative Comparisons\n",
    "\n",
    "**NOTE:** Generate subscore charts (as seen in the methodology) for each assessment and subset of the data. Then, check and see if each chart has the same relative comparisons to each other."
   ]
  },
  {
   "cell_type": "code",
   "execution_count": 4,
   "id": "bf3a19b7",
   "metadata": {},
   "outputs": [],
   "source": [
    "subscore_charts = dict()\n",
    "\n",
    "for group in ['ALL','WITH EXCLUSIONS']:\n",
    "    for assessment in df['AssessmentName'].unique(): \n",
    "        af = df[df['AssessmentName'].eq(assessment)].copy()\n",
    "        if group == 'WITH EXCLUSIONS':\n",
    "            af = af[af['TOTAL_SCORE'].eq(af['CALC_TOTAL_SCORE'])].copy()\n",
    "        af = af.dropna(how='all', axis=1).copy()\n",
    "        \n",
    "        subscores = [c for c in af.columns if c.startswith('CALC_') and not c.endswith('_SCORE')]\n",
    "        subscores.append('GENERAL_SUB_SCORE')\n",
    "        \n",
    "        for subscore in subscores:\n",
    "            af[subscore] = af[subscore].apply(int)\n",
    "        \n",
    "        rates = af[\n",
    "            af['Race/Ethnicity'].isin(['Black','Latino', 'White'])\n",
    "        ].groupby('Race/Ethnicity')[subscores].mean().T\n",
    "        \n",
    "        if not assessment in subscore_charts.keys():\n",
    "            subscore_charts[assessment] = {group: rates.mul(100).round(1).sort_values(by='Black').copy()}\n",
    "        else:\n",
    "            subscore_charts[assessment][group] = rates.mul(100).round(1).sort_values(by='Black').copy()"
   ]
  },
  {
   "cell_type": "code",
   "execution_count": 5,
   "id": "4133e290",
   "metadata": {},
   "outputs": [
    {
     "data": {
      "text/plain": [
       "True    68\n",
       "Name: Same Comparative Relationship, dtype: int64"
      ]
     },
     "execution_count": 5,
     "metadata": {},
     "output_type": "execute_result"
    }
   ],
   "source": [
    "comparisons = []\n",
    "for assessment in subscore_charts.keys():\n",
    "    for group in ['Black', 'Latino']:\n",
    "        tk = pd.DataFrame(\n",
    "            subscore_charts[assessment]['ALL'][group].le(\n",
    "                subscore_charts[assessment]['ALL']['White']).eq(\n",
    "            subscore_charts[assessment]['WITH EXCLUSIONS'][group].le(\n",
    "                subscore_charts[assessment]['WITH EXCLUSIONS']['White'])\n",
    "            ), columns=[\"Same Comparative Relationship\"])\n",
    "        tk['group'] = group\n",
    "        tk['assessment'] = assessment\n",
    "        comparisons.append(tk.copy())\n",
    "\n",
    "all_comparisons = pd.concat(comparisons)\n",
    "\n",
    "all_comparisons['Same Comparative Relationship'].value_counts()"
   ]
  }
 ],
 "metadata": {
  "kernelspec": {
   "display_name": "Python 3 (ipykernel)",
   "language": "python",
   "name": "python3"
  },
  "language_info": {
   "codemirror_mode": {
    "name": "ipython",
    "version": 3
   },
   "file_extension": ".py",
   "mimetype": "text/x-python",
   "name": "python",
   "nbconvert_exporter": "python",
   "pygments_lexer": "ipython3",
   "version": "3.9.12"
  }
 },
 "nbformat": 4,
 "nbformat_minor": 5
}
