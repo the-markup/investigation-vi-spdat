{
 "cells": [
  {
   "cell_type": "code",
   "execution_count": 1,
   "id": "d62ac04a",
   "metadata": {},
   "outputs": [],
   "source": [
    "import statsmodels.formula.api as smf\n",
    "import pandas as pd"
   ]
  },
  {
   "cell_type": "markdown",
   "id": "556be597",
   "metadata": {},
   "source": [
    "# Data Preparation"
   ]
  },
  {
   "cell_type": "markdown",
   "id": "dca63d93",
   "metadata": {},
   "source": [
    "## Import Data"
   ]
  },
  {
   "cell_type": "code",
   "execution_count": 2,
   "id": "75f7aaf7",
   "metadata": {},
   "outputs": [],
   "source": [
    "data_folder = '../data/'\n",
    "fn = 'assessments.csv'\n",
    "df = pd.read_csv(f\"{data_folder}{fn}\")\n",
    "\n",
    "individuals = df[df['AssessmentName'].str.contains('Individuals')].copy()\n",
    "individuals.dropna(axis=1, how='all', inplace=True)\n",
    "\n",
    "for col in [c for c in individuals.columns if c.startswith('CALC_')]:\n",
    "    individuals[col] = individuals[col].apply(int)\n",
    "\n",
    "youth = df[df['AssessmentName'].str.contains('Youth')].copy()\n",
    "youth.dropna(axis=1, how='all', inplace=True)\n",
    "\n",
    "for col in [c for c in youth.columns if c.startswith('CALC_')]:\n",
    "    youth[col] = youth[col].apply(int)"
   ]
  },
  {
   "cell_type": "markdown",
   "id": "166f0132",
   "metadata": {},
   "source": [
    "## Feature Engineering"
   ]
  },
  {
   "cell_type": "markdown",
   "id": "dd01aed4",
   "metadata": {},
   "source": [
    "### High Acuity"
   ]
  },
  {
   "cell_type": "code",
   "execution_count": 3,
   "id": "00c04073",
   "metadata": {},
   "outputs": [],
   "source": [
    "individuals['is_high_acuity'] = individuals['Acuity'].str.contains('High').apply(int)\n",
    "youth['is_high_acuity'] = youth['Acuity'].str.contains('High').apply(int)"
   ]
  },
  {
   "cell_type": "markdown",
   "id": "66a20aee",
   "metadata": {},
   "source": [
    "### PSH Assessment Recommendation"
   ]
  },
  {
   "cell_type": "code",
   "execution_count": 4,
   "id": "3264c48c",
   "metadata": {},
   "outputs": [],
   "source": [
    "individuals['is_psh_recommendation'] = individuals['TOTAL_SCORE'].ge(8).apply(int)"
   ]
  },
  {
   "cell_type": "markdown",
   "id": "87da19ab",
   "metadata": {},
   "source": [
    "### Veteran Status"
   ]
  },
  {
   "cell_type": "code",
   "execution_count": 5,
   "id": "dee378e1",
   "metadata": {},
   "outputs": [],
   "source": [
    "individuals['is_veteran'] = individuals['Veteran status'].eq('Yes').apply(int)\n",
    "youth['is_veteran'] = youth['Veteran status'].eq('Yes').apply(int)"
   ]
  },
  {
   "cell_type": "markdown",
   "id": "abcdb05d",
   "metadata": {},
   "source": [
    "### Age Flags"
   ]
  },
  {
   "cell_type": "code",
   "execution_count": 6,
   "id": "a7e5ef6f",
   "metadata": {},
   "outputs": [],
   "source": [
    "individuals['is_senior'] = individuals['Age_group_at_assessment'].apply(lambda s: '60+' in str(s)).apply(int)\n",
    "youth['is_minor'] = youth['Age_group_at_assessment'].apply(lambda s: 'Under 18' in str(s)).apply(int)"
   ]
  },
  {
   "cell_type": "markdown",
   "id": "a351f608",
   "metadata": {},
   "source": [
    "### Gender Flags"
   ]
  },
  {
   "cell_type": "code",
   "execution_count": 7,
   "id": "0d5d5343",
   "metadata": {},
   "outputs": [],
   "source": [
    "individuals['is_male'] = individuals['Gender'].eq('Male').apply(int)\n",
    "youth['is_male'] = youth['Gender'].eq('Male').apply(int)"
   ]
  },
  {
   "cell_type": "markdown",
   "id": "a98a2a25",
   "metadata": {},
   "source": [
    "### Race "
   ]
  },
  {
   "cell_type": "code",
   "execution_count": 8,
   "id": "f859fca7",
   "metadata": {},
   "outputs": [],
   "source": [
    "individuals['re'] = individuals['Race/Ethnicity']\n",
    "individuals['is_white'] = individuals['Race/Ethnicity'].eq('White').apply(int)\n",
    "individuals['is_black'] = individuals['Race/Ethnicity'].eq('Black').apply(int)\n",
    "individuals['is_latino'] = individuals['Race/Ethnicity'].eq('Latino').apply(int)\n",
    "\n",
    "youth['re'] = youth['Race/Ethnicity']"
   ]
  },
  {
   "cell_type": "markdown",
   "id": "a444522b",
   "metadata": {},
   "source": [
    "# Regressions"
   ]
  },
  {
   "cell_type": "markdown",
   "id": "ce72e84d",
   "metadata": {},
   "source": [
    "## Adult Linear Regression"
   ]
  },
  {
   "cell_type": "code",
   "execution_count": 9,
   "id": "037d6687",
   "metadata": {},
   "outputs": [],
   "source": [
    "al_adjustments = pd.DataFrame()"
   ]
  },
  {
   "cell_type": "code",
   "execution_count": 10,
   "id": "e15090c4",
   "metadata": {},
   "outputs": [
    {
     "data": {
      "text/html": [
       "<table class=\"simpletable\">\n",
       "<caption>OLS Regression Results</caption>\n",
       "<tr>\n",
       "  <th>Dep. Variable:</th>       <td>TOTAL_SCORE</td>   <th>  R-squared:         </th>  <td>   0.008</td>  \n",
       "</tr>\n",
       "<tr>\n",
       "  <th>Model:</th>                   <td>OLS</td>       <th>  Adj. R-squared:    </th>  <td>   0.008</td>  \n",
       "</tr>\n",
       "<tr>\n",
       "  <th>Method:</th>             <td>Least Squares</td>  <th>  F-statistic:       </th>  <td>   194.2</td>  \n",
       "</tr>\n",
       "<tr>\n",
       "  <th>Date:</th>             <td>Thu, 09 Feb 2023</td> <th>  Prob (F-statistic):</th>  <td>7.08e-207</td> \n",
       "</tr>\n",
       "<tr>\n",
       "  <th>Time:</th>                 <td>15:44:01</td>     <th>  Log-Likelihood:    </th> <td>-3.5116e+05</td>\n",
       "</tr>\n",
       "<tr>\n",
       "  <th>No. Observations:</th>      <td>127442</td>      <th>  AIC:               </th>  <td>7.023e+05</td> \n",
       "</tr>\n",
       "<tr>\n",
       "  <th>Df Residuals:</th>          <td>127436</td>      <th>  BIC:               </th>  <td>7.024e+05</td> \n",
       "</tr>\n",
       "<tr>\n",
       "  <th>Df Model:</th>              <td>     5</td>      <th>                     </th>      <td> </td>     \n",
       "</tr>\n",
       "<tr>\n",
       "  <th>Covariance Type:</th>      <td>nonrobust</td>    <th>                     </th>      <td> </td>     \n",
       "</tr>\n",
       "</table>\n",
       "<table class=\"simpletable\">\n",
       "<tr>\n",
       "                    <td></td>                      <th>coef</th>     <th>std err</th>      <th>t</th>      <th>P>|t|</th>  <th>[0.025</th>    <th>0.975]</th>  \n",
       "</tr>\n",
       "<tr>\n",
       "  <th>Intercept</th>                            <td>    9.4341</td> <td>    0.022</td> <td>  428.471</td> <td> 0.000</td> <td>    9.391</td> <td>    9.477</td>\n",
       "</tr>\n",
       "<tr>\n",
       "  <th>C(re, Treatment('White'))[T.Asian]</th>   <td>   -0.8711</td> <td>    0.090</td> <td>   -9.683</td> <td> 0.000</td> <td>   -1.047</td> <td>   -0.695</td>\n",
       "</tr>\n",
       "<tr>\n",
       "  <th>C(re, Treatment('White'))[T.Black]</th>   <td>   -0.8299</td> <td>    0.028</td> <td>  -29.893</td> <td> 0.000</td> <td>   -0.884</td> <td>   -0.775</td>\n",
       "</tr>\n",
       "<tr>\n",
       "  <th>C(re, Treatment('White'))[T.Latino]</th>  <td>   -0.4467</td> <td>    0.030</td> <td>  -15.131</td> <td> 0.000</td> <td>   -0.505</td> <td>   -0.389</td>\n",
       "</tr>\n",
       "<tr>\n",
       "  <th>C(re, Treatment('White'))[T.Other]</th>   <td>   -0.5076</td> <td>    0.067</td> <td>   -7.541</td> <td> 0.000</td> <td>   -0.639</td> <td>   -0.376</td>\n",
       "</tr>\n",
       "<tr>\n",
       "  <th>C(re, Treatment('White'))[T.Unknown]</th> <td>   -0.9349</td> <td>    0.064</td> <td>  -14.561</td> <td> 0.000</td> <td>   -1.061</td> <td>   -0.809</td>\n",
       "</tr>\n",
       "</table>\n",
       "<table class=\"simpletable\">\n",
       "<tr>\n",
       "  <th>Omnibus:</th>       <td>12744.657</td> <th>  Durbin-Watson:     </th> <td>   1.948</td>\n",
       "</tr>\n",
       "<tr>\n",
       "  <th>Prob(Omnibus):</th>  <td> 0.000</td>   <th>  Jarque-Bera (JB):  </th> <td>3694.847</td>\n",
       "</tr>\n",
       "<tr>\n",
       "  <th>Skew:</th>           <td>-0.007</td>   <th>  Prob(JB):          </th> <td>    0.00</td>\n",
       "</tr>\n",
       "<tr>\n",
       "  <th>Kurtosis:</th>       <td> 2.166</td>   <th>  Cond. No.          </th> <td>    9.69</td>\n",
       "</tr>\n",
       "</table><br/><br/>Notes:<br/>[1] Standard Errors assume that the covariance matrix of the errors is correctly specified."
      ],
      "text/plain": [
       "<class 'statsmodels.iolib.summary.Summary'>\n",
       "\"\"\"\n",
       "                            OLS Regression Results                            \n",
       "==============================================================================\n",
       "Dep. Variable:            TOTAL_SCORE   R-squared:                       0.008\n",
       "Model:                            OLS   Adj. R-squared:                  0.008\n",
       "Method:                 Least Squares   F-statistic:                     194.2\n",
       "Date:                Thu, 09 Feb 2023   Prob (F-statistic):          7.08e-207\n",
       "Time:                        15:44:01   Log-Likelihood:            -3.5116e+05\n",
       "No. Observations:              127442   AIC:                         7.023e+05\n",
       "Df Residuals:                  127436   BIC:                         7.024e+05\n",
       "Df Model:                           5                                         \n",
       "Covariance Type:            nonrobust                                         \n",
       "========================================================================================================\n",
       "                                           coef    std err          t      P>|t|      [0.025      0.975]\n",
       "--------------------------------------------------------------------------------------------------------\n",
       "Intercept                                9.4341      0.022    428.471      0.000       9.391       9.477\n",
       "C(re, Treatment('White'))[T.Asian]      -0.8711      0.090     -9.683      0.000      -1.047      -0.695\n",
       "C(re, Treatment('White'))[T.Black]      -0.8299      0.028    -29.893      0.000      -0.884      -0.775\n",
       "C(re, Treatment('White'))[T.Latino]     -0.4467      0.030    -15.131      0.000      -0.505      -0.389\n",
       "C(re, Treatment('White'))[T.Other]      -0.5076      0.067     -7.541      0.000      -0.639      -0.376\n",
       "C(re, Treatment('White'))[T.Unknown]    -0.9349      0.064    -14.561      0.000      -1.061      -0.809\n",
       "==============================================================================\n",
       "Omnibus:                    12744.657   Durbin-Watson:                   1.948\n",
       "Prob(Omnibus):                  0.000   Jarque-Bera (JB):             3694.847\n",
       "Skew:                          -0.007   Prob(JB):                         0.00\n",
       "Kurtosis:                       2.166   Cond. No.                         9.69\n",
       "==============================================================================\n",
       "\n",
       "Notes:\n",
       "[1] Standard Errors assume that the covariance matrix of the errors is correctly specified.\n",
       "\"\"\""
      ]
     },
     "execution_count": 10,
     "metadata": {},
     "output_type": "execute_result"
    }
   ],
   "source": [
    "model = smf.ols(\"\"\"\n",
    "    TOTAL_SCORE ~ C(re, Treatment('White'))\n",
    "\"\"\", data=individuals)\n",
    "\n",
    "results = model.fit()\n",
    "al_adjustments['no_adjustments'] = results.params\n",
    "results.summary()"
   ]
  },
  {
   "cell_type": "markdown",
   "id": "55822d4e",
   "metadata": {},
   "source": [
    "**NOTE:** For the below regression (and subsequent regressions that use demographic/situational variables in addition to race,) we used [Service Planning Area (SPA) 4](http://publichealth.lacounty.gov/chs/SPA4/), which represents Metro LA, as a treatment category for the `SPA` variable."
   ]
  },
  {
   "cell_type": "code",
   "execution_count": 11,
   "id": "823690d9",
   "metadata": {},
   "outputs": [
    {
     "data": {
      "text/html": [
       "<table class=\"simpletable\">\n",
       "<caption>OLS Regression Results</caption>\n",
       "<tr>\n",
       "  <th>Dep. Variable:</th>       <td>TOTAL_SCORE</td>   <th>  R-squared:         </th>  <td>   0.081</td>  \n",
       "</tr>\n",
       "<tr>\n",
       "  <th>Model:</th>                   <td>OLS</td>       <th>  Adj. R-squared:    </th>  <td>   0.080</td>  \n",
       "</tr>\n",
       "<tr>\n",
       "  <th>Method:</th>             <td>Least Squares</td>  <th>  F-statistic:       </th>  <td>   687.7</td>  \n",
       "</tr>\n",
       "<tr>\n",
       "  <th>Date:</th>             <td>Thu, 09 Feb 2023</td> <th>  Prob (F-statistic):</th>   <td>  0.00</td>   \n",
       "</tr>\n",
       "<tr>\n",
       "  <th>Time:</th>                 <td>15:44:02</td>     <th>  Log-Likelihood:    </th> <td>-3.4120e+05</td>\n",
       "</tr>\n",
       "<tr>\n",
       "  <th>No. Observations:</th>      <td>125689</td>      <th>  AIC:               </th>  <td>6.824e+05</td> \n",
       "</tr>\n",
       "<tr>\n",
       "  <th>Df Residuals:</th>          <td>125672</td>      <th>  BIC:               </th>  <td>6.826e+05</td> \n",
       "</tr>\n",
       "<tr>\n",
       "  <th>Df Model:</th>              <td>    16</td>      <th>                     </th>      <td> </td>     \n",
       "</tr>\n",
       "<tr>\n",
       "  <th>Covariance Type:</th>      <td>nonrobust</td>    <th>                     </th>      <td> </td>     \n",
       "</tr>\n",
       "</table>\n",
       "<table class=\"simpletable\">\n",
       "<tr>\n",
       "                    <td></td>                      <th>coef</th>     <th>std err</th>      <th>t</th>      <th>P>|t|</th>  <th>[0.025</th>    <th>0.975]</th>  \n",
       "</tr>\n",
       "<tr>\n",
       "  <th>Intercept</th>                            <td> -820.2054</td> <td>   11.447</td> <td>  -71.650</td> <td> 0.000</td> <td> -842.642</td> <td> -797.769</td>\n",
       "</tr>\n",
       "<tr>\n",
       "  <th>C(SPA, Treatment(4))[T.1.0]</th>          <td>   -0.4446</td> <td>    0.047</td> <td>   -9.435</td> <td> 0.000</td> <td>   -0.537</td> <td>   -0.352</td>\n",
       "</tr>\n",
       "<tr>\n",
       "  <th>C(SPA, Treatment(4))[T.2.0]</th>          <td>   -0.6075</td> <td>    0.035</td> <td>  -17.354</td> <td> 0.000</td> <td>   -0.676</td> <td>   -0.539</td>\n",
       "</tr>\n",
       "<tr>\n",
       "  <th>C(SPA, Treatment(4))[T.3.0]</th>          <td>   -0.3222</td> <td>    0.040</td> <td>   -8.094</td> <td> 0.000</td> <td>   -0.400</td> <td>   -0.244</td>\n",
       "</tr>\n",
       "<tr>\n",
       "  <th>C(SPA, Treatment(4))[T.5.0]</th>          <td>    0.1776</td> <td>    0.042</td> <td>    4.278</td> <td> 0.000</td> <td>    0.096</td> <td>    0.259</td>\n",
       "</tr>\n",
       "<tr>\n",
       "  <th>C(SPA, Treatment(4))[T.6.0]</th>          <td>   -1.6374</td> <td>    0.031</td> <td>  -52.705</td> <td> 0.000</td> <td>   -1.698</td> <td>   -1.577</td>\n",
       "</tr>\n",
       "<tr>\n",
       "  <th>C(SPA, Treatment(4))[T.7.0]</th>          <td>   -1.1507</td> <td>    0.046</td> <td>  -24.906</td> <td> 0.000</td> <td>   -1.241</td> <td>   -1.060</td>\n",
       "</tr>\n",
       "<tr>\n",
       "  <th>C(SPA, Treatment(4))[T.8.0]</th>          <td>   -1.2035</td> <td>    0.038</td> <td>  -31.839</td> <td> 0.000</td> <td>   -1.278</td> <td>   -1.129</td>\n",
       "</tr>\n",
       "<tr>\n",
       "  <th>C(re, Treatment('White'))[T.Asian]</th>   <td>   -0.9395</td> <td>    0.087</td> <td>  -10.773</td> <td> 0.000</td> <td>   -1.110</td> <td>   -0.769</td>\n",
       "</tr>\n",
       "<tr>\n",
       "  <th>C(re, Treatment('White'))[T.Black]</th>   <td>   -0.5233</td> <td>    0.028</td> <td>  -18.575</td> <td> 0.000</td> <td>   -0.579</td> <td>   -0.468</td>\n",
       "</tr>\n",
       "<tr>\n",
       "  <th>C(re, Treatment('White'))[T.Latino]</th>  <td>   -0.3933</td> <td>    0.029</td> <td>  -13.463</td> <td> 0.000</td> <td>   -0.451</td> <td>   -0.336</td>\n",
       "</tr>\n",
       "<tr>\n",
       "  <th>C(re, Treatment('White'))[T.Other]</th>   <td>   -0.3683</td> <td>    0.065</td> <td>   -5.650</td> <td> 0.000</td> <td>   -0.496</td> <td>   -0.241</td>\n",
       "</tr>\n",
       "<tr>\n",
       "  <th>C(re, Treatment('White'))[T.Unknown]</th> <td>   -0.7468</td> <td>    0.063</td> <td>  -11.932</td> <td> 0.000</td> <td>   -0.869</td> <td>   -0.624</td>\n",
       "</tr>\n",
       "<tr>\n",
       "  <th>is_veteran</th>                           <td>    0.0223</td> <td>    0.035</td> <td>    0.644</td> <td> 0.520</td> <td>   -0.045</td> <td>    0.090</td>\n",
       "</tr>\n",
       "<tr>\n",
       "  <th>is_senior</th>                            <td>    0.5637</td> <td>    0.027</td> <td>   20.597</td> <td> 0.000</td> <td>    0.510</td> <td>    0.617</td>\n",
       "</tr>\n",
       "<tr>\n",
       "  <th>is_male</th>                              <td>   -0.1856</td> <td>    0.022</td> <td>   -8.387</td> <td> 0.000</td> <td>   -0.229</td> <td>   -0.142</td>\n",
       "</tr>\n",
       "<tr>\n",
       "  <th>AssessmentYear</th>                       <td>    0.4112</td> <td>    0.006</td> <td>   72.520</td> <td> 0.000</td> <td>    0.400</td> <td>    0.422</td>\n",
       "</tr>\n",
       "</table>\n",
       "<table class=\"simpletable\">\n",
       "<tr>\n",
       "  <th>Omnibus:</th>       <td>6855.134</td> <th>  Durbin-Watson:     </th> <td>   1.959</td>\n",
       "</tr>\n",
       "<tr>\n",
       "  <th>Prob(Omnibus):</th>  <td> 0.000</td>  <th>  Jarque-Bera (JB):  </th> <td>2615.606</td>\n",
       "</tr>\n",
       "<tr>\n",
       "  <th>Skew:</th>           <td>-0.009</td>  <th>  Prob(JB):          </th> <td>    0.00</td>\n",
       "</tr>\n",
       "<tr>\n",
       "  <th>Kurtosis:</th>       <td> 2.294</td>  <th>  Cond. No.          </th> <td>2.24e+06</td>\n",
       "</tr>\n",
       "</table><br/><br/>Notes:<br/>[1] Standard Errors assume that the covariance matrix of the errors is correctly specified.<br/>[2] The condition number is large, 2.24e+06. This might indicate that there are<br/>strong multicollinearity or other numerical problems."
      ],
      "text/plain": [
       "<class 'statsmodels.iolib.summary.Summary'>\n",
       "\"\"\"\n",
       "                            OLS Regression Results                            \n",
       "==============================================================================\n",
       "Dep. Variable:            TOTAL_SCORE   R-squared:                       0.081\n",
       "Model:                            OLS   Adj. R-squared:                  0.080\n",
       "Method:                 Least Squares   F-statistic:                     687.7\n",
       "Date:                Thu, 09 Feb 2023   Prob (F-statistic):               0.00\n",
       "Time:                        15:44:02   Log-Likelihood:            -3.4120e+05\n",
       "No. Observations:              125689   AIC:                         6.824e+05\n",
       "Df Residuals:                  125672   BIC:                         6.826e+05\n",
       "Df Model:                          16                                         \n",
       "Covariance Type:            nonrobust                                         \n",
       "========================================================================================================\n",
       "                                           coef    std err          t      P>|t|      [0.025      0.975]\n",
       "--------------------------------------------------------------------------------------------------------\n",
       "Intercept                             -820.2054     11.447    -71.650      0.000    -842.642    -797.769\n",
       "C(SPA, Treatment(4))[T.1.0]             -0.4446      0.047     -9.435      0.000      -0.537      -0.352\n",
       "C(SPA, Treatment(4))[T.2.0]             -0.6075      0.035    -17.354      0.000      -0.676      -0.539\n",
       "C(SPA, Treatment(4))[T.3.0]             -0.3222      0.040     -8.094      0.000      -0.400      -0.244\n",
       "C(SPA, Treatment(4))[T.5.0]              0.1776      0.042      4.278      0.000       0.096       0.259\n",
       "C(SPA, Treatment(4))[T.6.0]             -1.6374      0.031    -52.705      0.000      -1.698      -1.577\n",
       "C(SPA, Treatment(4))[T.7.0]             -1.1507      0.046    -24.906      0.000      -1.241      -1.060\n",
       "C(SPA, Treatment(4))[T.8.0]             -1.2035      0.038    -31.839      0.000      -1.278      -1.129\n",
       "C(re, Treatment('White'))[T.Asian]      -0.9395      0.087    -10.773      0.000      -1.110      -0.769\n",
       "C(re, Treatment('White'))[T.Black]      -0.5233      0.028    -18.575      0.000      -0.579      -0.468\n",
       "C(re, Treatment('White'))[T.Latino]     -0.3933      0.029    -13.463      0.000      -0.451      -0.336\n",
       "C(re, Treatment('White'))[T.Other]      -0.3683      0.065     -5.650      0.000      -0.496      -0.241\n",
       "C(re, Treatment('White'))[T.Unknown]    -0.7468      0.063    -11.932      0.000      -0.869      -0.624\n",
       "is_veteran                               0.0223      0.035      0.644      0.520      -0.045       0.090\n",
       "is_senior                                0.5637      0.027     20.597      0.000       0.510       0.617\n",
       "is_male                                 -0.1856      0.022     -8.387      0.000      -0.229      -0.142\n",
       "AssessmentYear                           0.4112      0.006     72.520      0.000       0.400       0.422\n",
       "==============================================================================\n",
       "Omnibus:                     6855.134   Durbin-Watson:                   1.959\n",
       "Prob(Omnibus):                  0.000   Jarque-Bera (JB):             2615.606\n",
       "Skew:                          -0.009   Prob(JB):                         0.00\n",
       "Kurtosis:                       2.294   Cond. No.                     2.24e+06\n",
       "==============================================================================\n",
       "\n",
       "Notes:\n",
       "[1] Standard Errors assume that the covariance matrix of the errors is correctly specified.\n",
       "[2] The condition number is large, 2.24e+06. This might indicate that there are\n",
       "strong multicollinearity or other numerical problems.\n",
       "\"\"\""
      ]
     },
     "execution_count": 11,
     "metadata": {},
     "output_type": "execute_result"
    }
   ],
   "source": [
    "model = smf.ols(\"\"\"\n",
    "    TOTAL_SCORE ~ is_veteran \n",
    "                + is_senior \n",
    "                + is_male \n",
    "                + C(SPA, Treatment(4)) \n",
    "                + AssessmentYear \n",
    "                + C(re, Treatment('White'))\n",
    "\"\"\", data=individuals)\n",
    "\n",
    "results = model.fit()\n",
    "al_adjustments['with_adjustments'] = results.params\n",
    "results.summary()"
   ]
  },
  {
   "cell_type": "code",
   "execution_count": 12,
   "id": "1e656e1f",
   "metadata": {},
   "outputs": [
    {
     "data": {
      "text/html": [
       "<div>\n",
       "<style scoped>\n",
       "    .dataframe tbody tr th:only-of-type {\n",
       "        vertical-align: middle;\n",
       "    }\n",
       "\n",
       "    .dataframe tbody tr th {\n",
       "        vertical-align: top;\n",
       "    }\n",
       "\n",
       "    .dataframe thead th {\n",
       "        text-align: right;\n",
       "    }\n",
       "</style>\n",
       "<table border=\"1\" class=\"dataframe\">\n",
       "  <thead>\n",
       "    <tr style=\"text-align: right;\">\n",
       "      <th></th>\n",
       "      <th>no_adjustments</th>\n",
       "      <th>with_adjustments</th>\n",
       "    </tr>\n",
       "  </thead>\n",
       "  <tbody>\n",
       "    <tr>\n",
       "      <th>Intercept</th>\n",
       "      <td>9.434113</td>\n",
       "      <td>-820.205413</td>\n",
       "    </tr>\n",
       "    <tr>\n",
       "      <th>C(re, Treatment('White'))[T.Asian]</th>\n",
       "      <td>-0.871088</td>\n",
       "      <td>-0.939512</td>\n",
       "    </tr>\n",
       "    <tr>\n",
       "      <th>C(re, Treatment('White'))[T.Black]</th>\n",
       "      <td>-0.829908</td>\n",
       "      <td>-0.523342</td>\n",
       "    </tr>\n",
       "    <tr>\n",
       "      <th>C(re, Treatment('White'))[T.Latino]</th>\n",
       "      <td>-0.446717</td>\n",
       "      <td>-0.393314</td>\n",
       "    </tr>\n",
       "    <tr>\n",
       "      <th>C(re, Treatment('White'))[T.Other]</th>\n",
       "      <td>-0.507556</td>\n",
       "      <td>-0.368288</td>\n",
       "    </tr>\n",
       "    <tr>\n",
       "      <th>C(re, Treatment('White'))[T.Unknown]</th>\n",
       "      <td>-0.934867</td>\n",
       "      <td>-0.746816</td>\n",
       "    </tr>\n",
       "  </tbody>\n",
       "</table>\n",
       "</div>"
      ],
      "text/plain": [
       "                                      no_adjustments  with_adjustments\n",
       "Intercept                                   9.434113       -820.205413\n",
       "C(re, Treatment('White'))[T.Asian]         -0.871088         -0.939512\n",
       "C(re, Treatment('White'))[T.Black]         -0.829908         -0.523342\n",
       "C(re, Treatment('White'))[T.Latino]        -0.446717         -0.393314\n",
       "C(re, Treatment('White'))[T.Other]         -0.507556         -0.368288\n",
       "C(re, Treatment('White'))[T.Unknown]       -0.934867         -0.746816"
      ]
     },
     "execution_count": 12,
     "metadata": {},
     "output_type": "execute_result"
    }
   ],
   "source": [
    "al_adjustments"
   ]
  },
  {
   "cell_type": "markdown",
   "id": "43f6ec3a",
   "metadata": {},
   "source": [
    "## Adult Logistic Regression (High Acuity)"
   ]
  },
  {
   "cell_type": "code",
   "execution_count": 13,
   "id": "92380409",
   "metadata": {},
   "outputs": [],
   "source": [
    "alog_adjustments = pd.DataFrame()"
   ]
  },
  {
   "cell_type": "code",
   "execution_count": 14,
   "id": "e281baf5",
   "metadata": {},
   "outputs": [
    {
     "name": "stdout",
     "output_type": "stream",
     "text": [
      "Optimization terminated successfully.\n",
      "         Current function value: 0.589566\n",
      "         Iterations 5\n"
     ]
    },
    {
     "data": {
      "text/html": [
       "<table class=\"simpletable\">\n",
       "<caption>Logit Regression Results</caption>\n",
       "<tr>\n",
       "  <th>Dep. Variable:</th>    <td>is_high_acuity</td>  <th>  No. Observations:  </th>  <td>127442</td>  \n",
       "</tr>\n",
       "<tr>\n",
       "  <th>Model:</th>                 <td>Logit</td>      <th>  Df Residuals:      </th>  <td>127436</td>  \n",
       "</tr>\n",
       "<tr>\n",
       "  <th>Method:</th>                 <td>MLE</td>       <th>  Df Model:          </th>  <td>     5</td>  \n",
       "</tr>\n",
       "<tr>\n",
       "  <th>Date:</th>            <td>Thu, 09 Feb 2023</td> <th>  Pseudo R-squ.:     </th> <td>0.002823</td> \n",
       "</tr>\n",
       "<tr>\n",
       "  <th>Time:</th>                <td>15:44:03</td>     <th>  Log-Likelihood:    </th> <td> -75135.</td> \n",
       "</tr>\n",
       "<tr>\n",
       "  <th>converged:</th>             <td>True</td>       <th>  LL-Null:           </th> <td> -75348.</td> \n",
       "</tr>\n",
       "<tr>\n",
       "  <th>Covariance Type:</th>     <td>nonrobust</td>    <th>  LLR p-value:       </th> <td>9.494e-90</td>\n",
       "</tr>\n",
       "</table>\n",
       "<table class=\"simpletable\">\n",
       "<tr>\n",
       "                    <td></td>                      <th>coef</th>     <th>std err</th>      <th>z</th>      <th>P>|z|</th>  <th>[0.025</th>    <th>0.975]</th>  \n",
       "</tr>\n",
       "<tr>\n",
       "  <th>Intercept</th>                            <td>   -0.7528</td> <td>    0.012</td> <td>  -60.709</td> <td> 0.000</td> <td>   -0.777</td> <td>   -0.728</td>\n",
       "</tr>\n",
       "<tr>\n",
       "  <th>C(re, Treatment('White'))[T.Asian]</th>   <td>   -0.3740</td> <td>    0.055</td> <td>   -6.834</td> <td> 0.000</td> <td>   -0.481</td> <td>   -0.267</td>\n",
       "</tr>\n",
       "<tr>\n",
       "  <th>C(re, Treatment('White'))[T.Black]</th>   <td>   -0.3109</td> <td>    0.016</td> <td>  -19.384</td> <td> 0.000</td> <td>   -0.342</td> <td>   -0.279</td>\n",
       "</tr>\n",
       "<tr>\n",
       "  <th>C(re, Treatment('White'))[T.Latino]</th>  <td>   -0.1893</td> <td>    0.017</td> <td>  -11.194</td> <td> 0.000</td> <td>   -0.222</td> <td>   -0.156</td>\n",
       "</tr>\n",
       "<tr>\n",
       "  <th>C(re, Treatment('White'))[T.Other]</th>   <td>   -0.2163</td> <td>    0.039</td> <td>   -5.486</td> <td> 0.000</td> <td>   -0.294</td> <td>   -0.139</td>\n",
       "</tr>\n",
       "<tr>\n",
       "  <th>C(re, Treatment('White'))[T.Unknown]</th> <td>   -0.4286</td> <td>    0.039</td> <td>  -10.881</td> <td> 0.000</td> <td>   -0.506</td> <td>   -0.351</td>\n",
       "</tr>\n",
       "</table>"
      ],
      "text/plain": [
       "<class 'statsmodels.iolib.summary.Summary'>\n",
       "\"\"\"\n",
       "                           Logit Regression Results                           \n",
       "==============================================================================\n",
       "Dep. Variable:         is_high_acuity   No. Observations:               127442\n",
       "Model:                          Logit   Df Residuals:                   127436\n",
       "Method:                           MLE   Df Model:                            5\n",
       "Date:                Thu, 09 Feb 2023   Pseudo R-squ.:                0.002823\n",
       "Time:                        15:44:03   Log-Likelihood:                -75135.\n",
       "converged:                       True   LL-Null:                       -75348.\n",
       "Covariance Type:            nonrobust   LLR p-value:                 9.494e-90\n",
       "========================================================================================================\n",
       "                                           coef    std err          z      P>|z|      [0.025      0.975]\n",
       "--------------------------------------------------------------------------------------------------------\n",
       "Intercept                               -0.7528      0.012    -60.709      0.000      -0.777      -0.728\n",
       "C(re, Treatment('White'))[T.Asian]      -0.3740      0.055     -6.834      0.000      -0.481      -0.267\n",
       "C(re, Treatment('White'))[T.Black]      -0.3109      0.016    -19.384      0.000      -0.342      -0.279\n",
       "C(re, Treatment('White'))[T.Latino]     -0.1893      0.017    -11.194      0.000      -0.222      -0.156\n",
       "C(re, Treatment('White'))[T.Other]      -0.2163      0.039     -5.486      0.000      -0.294      -0.139\n",
       "C(re, Treatment('White'))[T.Unknown]    -0.4286      0.039    -10.881      0.000      -0.506      -0.351\n",
       "========================================================================================================\n",
       "\"\"\""
      ]
     },
     "execution_count": 14,
     "metadata": {},
     "output_type": "execute_result"
    }
   ],
   "source": [
    "model = smf.logit(\"\"\"\n",
    "    is_high_acuity ~ C(re, Treatment('White'))\n",
    "\"\"\", data=individuals)\n",
    "\n",
    "results = model.fit()\n",
    "alog_adjustments['no_adjustments'] = results.params\n",
    "results.summary()"
   ]
  },
  {
   "cell_type": "code",
   "execution_count": null,
   "id": "281fbf34",
   "metadata": {},
   "outputs": [],
   "source": [
    "model = smf.logit(\"\"\"\n",
    "    is_high_acuity ~ is_veteran \n",
    "                + is_senior \n",
    "                + is_male \n",
    "                + C(SPA, Treatment(4)) \n",
    "                + AssessmentYear \n",
    "                + C(re, Treatment('White'))\n",
    "\"\"\", data=individuals)\n",
    "\n",
    "results = model.fit()\n",
    "alog_adjustments['with_adjustments'] = results.params\n",
    "results.summary()"
   ]
  },
  {
   "cell_type": "code",
   "execution_count": null,
   "id": "ecebb0ef",
   "metadata": {},
   "outputs": [],
   "source": [
    "alog_adjustments"
   ]
  },
  {
   "cell_type": "markdown",
   "id": "d6a90030",
   "metadata": {},
   "source": [
    "## Adult Logistic Regression (PSH Assessment Recommendation)\n",
    "\n",
    "**NOTE:** While LAHSA policies use a score of 12 as a cutoff, the [VI-SPDAT survey](https://www.lahsa.org/documents?id=1306-form-1306-ces-survey-for-individuals-survey-packet.pdf) itself recommends an asssessment for Permanent Supportive Housing/Housing First for scores of 8 or higher. We found that running a logisitic regression with the 8 or more cutoff produced similar results compared to the 12 or more cutoff. You can read more about how we chose to categorize scores in the [“Acuity Group” Categorization](TK) section of our methodology."
   ]
  },
  {
   "cell_type": "code",
   "execution_count": null,
   "id": "02066a11",
   "metadata": {},
   "outputs": [],
   "source": [
    "apshlog_adjustments = pd.DataFrame()"
   ]
  },
  {
   "cell_type": "code",
   "execution_count": null,
   "id": "46d9b681",
   "metadata": {},
   "outputs": [],
   "source": [
    "model = smf.logit(\"\"\"\n",
    "    is_psh_recommendation ~ C(re, Treatment('White'))\n",
    "\"\"\", data=individuals)\n",
    "\n",
    "results = model.fit()\n",
    "apshlog_adjustments['no_adjustments'] = results.params\n",
    "results.summary()"
   ]
  },
  {
   "cell_type": "code",
   "execution_count": null,
   "id": "3cfa862f",
   "metadata": {},
   "outputs": [],
   "source": [
    "model = smf.logit(\"\"\"\n",
    "    is_psh_recommendation ~ is_veteran \n",
    "                + is_senior \n",
    "                + is_male \n",
    "                + C(SPA, Treatment(4)) \n",
    "                + AssessmentYear \n",
    "                + C(re, Treatment('White'))\n",
    "\"\"\", data=individuals)\n",
    "\n",
    "results = model.fit()\n",
    "apshlog_adjustments['with_adjustments'] = results.params\n",
    "results.summary()"
   ]
  },
  {
   "cell_type": "code",
   "execution_count": null,
   "id": "8dda2413",
   "metadata": {},
   "outputs": [],
   "source": [
    "apshlog_adjustments"
   ]
  },
  {
   "cell_type": "markdown",
   "id": "3b4fc196",
   "metadata": {},
   "source": [
    "## Youth Linear Regression"
   ]
  },
  {
   "cell_type": "code",
   "execution_count": null,
   "id": "704582a5",
   "metadata": {},
   "outputs": [],
   "source": [
    "yl_adjustments = pd.DataFrame()"
   ]
  },
  {
   "cell_type": "code",
   "execution_count": null,
   "id": "cedab22c",
   "metadata": {},
   "outputs": [],
   "source": [
    "model = smf.ols(\"\"\"\n",
    "    TOTAL_SCORE ~ C(re, Treatment('White'))\n",
    "\"\"\", data=youth)\n",
    "\n",
    "results = model.fit()\n",
    "yl_adjustments['no_adjustments'] = results.params\n",
    "results.summary()"
   ]
  },
  {
   "cell_type": "code",
   "execution_count": null,
   "id": "b0a2023a",
   "metadata": {},
   "outputs": [],
   "source": [
    "model = smf.ols(\"\"\"\n",
    "    TOTAL_SCORE ~ is_veteran \n",
    "                + is_minor \n",
    "                + is_male \n",
    "                + C(SPA, Treatment(4)) \n",
    "                + AssessmentYear \n",
    "                + C(re, Treatment('White'))\n",
    "\"\"\", data=youth)\n",
    "\n",
    "results = model.fit()\n",
    "yl_adjustments['with_adjustments'] = results.params\n",
    "results.summary()"
   ]
  },
  {
   "cell_type": "code",
   "execution_count": null,
   "id": "0d0317bc",
   "metadata": {},
   "outputs": [],
   "source": [
    "yl_adjustments"
   ]
  },
  {
   "cell_type": "markdown",
   "id": "0a4e52e3",
   "metadata": {},
   "source": [
    "## Youth Logistic Regression (High Acuity)"
   ]
  },
  {
   "cell_type": "code",
   "execution_count": null,
   "id": "c0e017bd",
   "metadata": {},
   "outputs": [],
   "source": [
    "ylog_adjustments = pd.DataFrame()"
   ]
  },
  {
   "cell_type": "code",
   "execution_count": null,
   "id": "47f5aaa0",
   "metadata": {},
   "outputs": [],
   "source": [
    "model = smf.logit(\"\"\"\n",
    "    is_high_acuity ~ C(re, Treatment('White'))\n",
    "\"\"\", data=youth)\n",
    "\n",
    "results = model.fit()\n",
    "ylog_adjustments['no_adjustments'] = results.params\n",
    "results.summary()"
   ]
  },
  {
   "cell_type": "code",
   "execution_count": null,
   "id": "27fc2aea",
   "metadata": {},
   "outputs": [],
   "source": [
    "model = smf.logit(\"\"\"\n",
    "    is_high_acuity ~ is_veteran \n",
    "                + is_minor \n",
    "                + is_male \n",
    "                + C(SPA, Treatment(4)) \n",
    "                + AssessmentYear \n",
    "                + C(re, Treatment('White'))\n",
    "\"\"\", data=youth)\n",
    "\n",
    "results = model.fit()\n",
    "ylog_adjustments['with_adjustments'] = results.params\n",
    "results.summary()"
   ]
  },
  {
   "cell_type": "code",
   "execution_count": null,
   "id": "7a4a7b2f",
   "metadata": {},
   "outputs": [],
   "source": [
    "ylog_adjustments"
   ]
  }
 ],
 "metadata": {
  "kernelspec": {
   "display_name": "Python 3 (ipykernel)",
   "language": "python",
   "name": "python3"
  },
  "language_info": {
   "codemirror_mode": {
    "name": "ipython",
    "version": 3
   },
   "file_extension": ".py",
   "mimetype": "text/x-python",
   "name": "python",
   "nbconvert_exporter": "python",
   "pygments_lexer": "ipython3",
   "version": "3.9.12"
  }
 },
 "nbformat": 4,
 "nbformat_minor": 5
}
